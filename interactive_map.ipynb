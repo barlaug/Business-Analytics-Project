{
 "cells": [
  {
   "cell_type": "code",
   "execution_count": null,
   "metadata": {},
   "outputs": [],
   "source": [
    "import plotly.express as px\n",
    "import plotly.io as pio\n",
    "import plotly.offline as pyo\n",
    "# Set notebook mode to work in offline\n",
    "pyo.init_notebook_mode()"
   ]
  },
  {
   "cell_type": "code",
   "execution_count": null,
   "metadata": {},
   "outputs": [],
   "source": [
    "api_token = \"pk.eyJ1IjoiYmFybGF1ZyIsImEiOiJjbGE2czJqNGcwazJuM3dxenhucXAxb3E1In0.--v3HQgnOhI_fjUHxq0csg\""
   ]
  },
  {
   "cell_type": "code",
   "execution_count": null,
   "metadata": {},
   "outputs": [],
   "source": [
    "df = df_listings[[\"latitude\", \"longitude\"]]\n",
    "df[\"color\"] =  np.ones(len(df))\n",
    "\n",
    "fig = px.scatter_mapbox(df, lat=\"latitude\", lon=\"longitude\", width=1100, height=800, color=\"color\")\n",
    "fig.update_layout(font_size=16,  title={'xanchor': 'center','yanchor': 'top', 'y':0.1, 'x':0.1,}, \n",
    "        title_font_size = 24, mapbox_accesstoken=api_token)#, mapbox_style = \"mapbox://styles/strym/ckhd00st61aum19noz9h8y8kw\")\n",
    "fig.update_traces(marker=dict(size=6))            \n",
    "fig.show()"
   ]
  }
 ],
 "metadata": {
  "kernelspec": {
   "display_name": "Python 3.9.13 64-bit (microsoft store)",
   "language": "python",
   "name": "python3"
  },
  "language_info": {
   "name": "python",
   "version": "3.9.13"
  },
  "orig_nbformat": 4,
  "vscode": {
   "interpreter": {
    "hash": "3aa2052e9a08f0910284e2d7e8b5954f4401c8e958dc175eb29fb1cae388f6ea"
   }
  }
 },
 "nbformat": 4,
 "nbformat_minor": 2
}
